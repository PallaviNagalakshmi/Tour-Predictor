{
 "cells": [
  {
   "cell_type": "code",
   "execution_count": 18,
   "id": "43d69b22-228a-4f92-b98a-225d531571dd",
   "metadata": {},
   "outputs": [],
   "source": [
    "# This is only needed for tourism prediction project"
   ]
  },
  {
   "cell_type": "code",
   "execution_count": 19,
   "id": "c2b56784-2468-42b4-8c5b-e6301b30e6de",
   "metadata": {},
   "outputs": [
    {
     "name": "stdout",
     "output_type": "stream",
     "text": [
      "Model trained and saved as best_model.pkl. Best model: Random Forest with RMSE: 17053.76\n"
     ]
    }
   ],
   "source": [
    "# Tourist Count Prediction Project (Enhanced Version)\n",
    "\n",
    "import pandas as pd\n",
    "import numpy as np\n",
    "from sklearn.model_selection import train_test_split\n",
    "from sklearn.linear_model import LinearRegression\n",
    "from sklearn.ensemble import RandomForestRegressor\n",
    "from sklearn.tree import DecisionTreeRegressor\n",
    "from sklearn.metrics import mean_squared_error\n",
    "import joblib\n",
    "\n",
    "# Step 1: Load the dataset\n",
    "file_path = \"India-Tourism-Statistics-2022-Table-2.1.4.csv\"\n",
    "df = pd.read_csv(file_path)\n",
    "\n",
    "# Step 2: Clean the data\n",
    "df = df[~df['Country of Nationality'].isin(['Total', 'Others'])]\n",
    "df = df.dropna(subset=[\n",
    "    'Number of Arrivals-2017',\n",
    "    'Number of Arrivals-2018',\n",
    "    'Number of Arrivals-2019',\n",
    "    'Number of Arrivals-2020',\n",
    "    'Number of Arrivals-2021'\n",
    "])\n",
    "\n",
    "# Step 3: Feature selection\n",
    "features = [\n",
    "    'Number of Arrivals-2017',\n",
    "    'Number of Arrivals-2018',\n",
    "    'Number of Arrivals-2019',\n",
    "    'Number of Arrivals-2020'\n",
    "]\n",
    "target = 'Number of Arrivals-2021'\n",
    "X = df[features]\n",
    "y = df[target]\n",
    "\n",
    "# Step 4: Train-test split\n",
    "X_train, X_test, y_train, y_test = train_test_split(X, y, test_size=0.2, random_state=42)\n",
    "\n",
    "# Step 5: Model selection and training\n",
    "models = {\n",
    "    \"Linear Regression\": LinearRegression(),\n",
    "    \"Decision Tree\": DecisionTreeRegressor(random_state=42),\n",
    "    \"Random Forest\": RandomForestRegressor(n_estimators=100, random_state=42)\n",
    "}\n",
    "\n",
    "results = {}\n",
    "for name, model in models.items():\n",
    "    model.fit(X_train, y_train)\n",
    "    y_pred = model.predict(X_test)\n",
    "    rmse = np.sqrt(mean_squared_error(y_test, y_pred))\n",
    "    results[name] = (model, rmse)\n",
    "\n",
    "# Select the best model\n",
    "best_model_name = min(results, key=lambda k: results[k][1])\n",
    "best_model, best_rmse = results[best_model_name]\n",
    "\n",
    "# Save model and data for Flask app\n",
    "joblib.dump(best_model, \"best_model.pkl\")\n",
    "df.to_csv(\"cleaned_data.csv\", index=False)\n",
    "print(f\"Model trained and saved as best_model.pkl. Best model: {best_model_name} with RMSE: {best_rmse:.2f}\")\n"
   ]
  },
  {
   "cell_type": "code",
   "execution_count": 20,
   "id": "dc97ca02-f301-4828-91e6-625d158a4ed5",
   "metadata": {},
   "outputs": [
    {
     "name": "stdout",
     "output_type": "stream",
     "text": [
      "^C\n"
     ]
    },
    {
     "name": "stderr",
     "output_type": "stream",
     "text": [
      "\n",
      "[notice] A new release of pip is available: 24.2 -> 25.1.1\n",
      "[notice] To update, run: python.exe -m pip install --upgrade pip\n"
     ]
    },
    {
     "name": "stdout",
     "output_type": "stream",
     "text": [
      "Collecting plotly\n",
      "  Using cached plotly-6.1.2-py3-none-any.whl.metadata (6.9 kB)\n",
      "Collecting pycountry\n",
      "  Using cached pycountry-24.6.1-py3-none-any.whl.metadata (12 kB)\n",
      "Collecting narwhals>=1.15.1 (from plotly)\n",
      "  Using cached narwhals-1.43.0-py3-none-any.whl.metadata (11 kB)\n",
      "Requirement already satisfied: packaging in c:\\users\\pallavi\\tourism\\venv\\lib\\site-packages (from plotly) (25.0)\n",
      "Using cached plotly-6.1.2-py3-none-any.whl (16.3 MB)\n",
      "Using cached pycountry-24.6.1-py3-none-any.whl (6.3 MB)\n",
      "Using cached narwhals-1.43.0-py3-none-any.whl (362 kB)\n",
      "Installing collected packages: pycountry, narwhals, plotly\n",
      "Successfully installed narwhals-1.43.0 plotly-6.1.2 pycountry-24.6.1\n"
     ]
    }
   ],
   "source": [
    "!pip install plotly pycountry"
   ]
  }
 ],
 "metadata": {
  "kernelspec": {
   "display_name": "venv",
   "language": "python",
   "name": "python3"
  },
  "language_info": {
   "codemirror_mode": {
    "name": "ipython",
    "version": 3
   },
   "file_extension": ".py",
   "mimetype": "text/x-python",
   "name": "python",
   "nbconvert_exporter": "python",
   "pygments_lexer": "ipython3",
   "version": "3.13.0"
  }
 },
 "nbformat": 4,
 "nbformat_minor": 5
}
