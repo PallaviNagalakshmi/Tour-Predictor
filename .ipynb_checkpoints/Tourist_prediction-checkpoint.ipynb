{
 "cells": [
  {
   "cell_type": "code",
   "execution_count": 2,
   "id": "b5808fa2-a042-41ca-9cd6-255ed3584aab",
   "metadata": {},
   "outputs": [],
   "source": [
    "import pandas as pd\n",
    "import numpy as np\n",
    "from sklearn.model_selection import train_test_split\n",
    "from sklearn.linear_model import LinearRegression\n",
    "from sklearn.metrics import mean_squared_error\n",
    "import matplotlib.pyplot as plt\n",
    "import seaborn as sns"
   ]
  },
  {
   "cell_type": "code",
   "execution_count": 4,
   "id": "158968d9-2da6-443e-939a-4d359fd17ea2",
   "metadata": {},
   "outputs": [],
   "source": [
    "# Step 1: Load the dataset\n",
    "file_path = \"India-Tourism-Statistics-2022-Table-2.1.4.csv\"\n",
    "df = pd.read_csv(file_path)"
   ]
  },
  {
   "cell_type": "code",
   "execution_count": 5,
   "id": "aee24f08-ca5d-46dc-95da-20f79be6e402",
   "metadata": {},
   "outputs": [],
   "source": [
    "# Step 2: Clean the data\n",
    "# Remove rows with 'Total' and 'Others'\n",
    "df = df[~df['Country of Nationality'].isin(['Total', 'Others'])]"
   ]
  },
  {
   "cell_type": "code",
   "execution_count": 6,
   "id": "2b65c1a9-eb56-4e54-9bd1-dec1d9827be7",
   "metadata": {},
   "outputs": [],
   "source": [
    "# Drop rows with missing values in important columns\n",
    "df = df.dropna(subset=[\n",
    "    'Number of Arrivals-2017',\n",
    "    'Number of Arrivals-2018',\n",
    "    'Number of Arrivals-2019',\n",
    "    'Number of Arrivals-2020',\n",
    "    'Number of Arrivals-2021'\n",
    "])\n"
   ]
  },
  {
   "cell_type": "code",
   "execution_count": 7,
   "id": "2581163c-54b6-48fa-9c51-441d64a440c1",
   "metadata": {},
   "outputs": [],
   "source": [
    "\n",
    "# Step 3: Feature selection\n",
    "X = df[[\n",
    "    'Number of Arrivals-2017',\n",
    "    'Number of Arrivals-2018',\n",
    "    'Number of Arrivals-2019',\n",
    "    'Number of Arrivals-2020']]\n",
    "y = df['Number of Arrivals-2021']\n"
   ]
  },
  {
   "cell_type": "code",
   "execution_count": 8,
   "id": "c3cee549-c5b5-4e30-a528-a757c5346282",
   "metadata": {},
   "outputs": [],
   "source": [
    "# Step 4: Train-test split\n",
    "X_train, X_test, y_train, y_test = train_test_split(X, y, test_size=0.2, random_state=42)\n"
   ]
  },
  {
   "cell_type": "code",
   "execution_count": 9,
   "id": "818fcd16-71c1-422c-b8e3-959d2e1b2c3d",
   "metadata": {},
   "outputs": [
    {
     "data": {
      "text/html": [
       "<style>#sk-container-id-1 {color: black;background-color: white;}#sk-container-id-1 pre{padding: 0;}#sk-container-id-1 div.sk-toggleable {background-color: white;}#sk-container-id-1 label.sk-toggleable__label {cursor: pointer;display: block;width: 100%;margin-bottom: 0;padding: 0.3em;box-sizing: border-box;text-align: center;}#sk-container-id-1 label.sk-toggleable__label-arrow:before {content: \"▸\";float: left;margin-right: 0.25em;color: #696969;}#sk-container-id-1 label.sk-toggleable__label-arrow:hover:before {color: black;}#sk-container-id-1 div.sk-estimator:hover label.sk-toggleable__label-arrow:before {color: black;}#sk-container-id-1 div.sk-toggleable__content {max-height: 0;max-width: 0;overflow: hidden;text-align: left;background-color: #f0f8ff;}#sk-container-id-1 div.sk-toggleable__content pre {margin: 0.2em;color: black;border-radius: 0.25em;background-color: #f0f8ff;}#sk-container-id-1 input.sk-toggleable__control:checked~div.sk-toggleable__content {max-height: 200px;max-width: 100%;overflow: auto;}#sk-container-id-1 input.sk-toggleable__control:checked~label.sk-toggleable__label-arrow:before {content: \"▾\";}#sk-container-id-1 div.sk-estimator input.sk-toggleable__control:checked~label.sk-toggleable__label {background-color: #d4ebff;}#sk-container-id-1 div.sk-label input.sk-toggleable__control:checked~label.sk-toggleable__label {background-color: #d4ebff;}#sk-container-id-1 input.sk-hidden--visually {border: 0;clip: rect(1px 1px 1px 1px);clip: rect(1px, 1px, 1px, 1px);height: 1px;margin: -1px;overflow: hidden;padding: 0;position: absolute;width: 1px;}#sk-container-id-1 div.sk-estimator {font-family: monospace;background-color: #f0f8ff;border: 1px dotted black;border-radius: 0.25em;box-sizing: border-box;margin-bottom: 0.5em;}#sk-container-id-1 div.sk-estimator:hover {background-color: #d4ebff;}#sk-container-id-1 div.sk-parallel-item::after {content: \"\";width: 100%;border-bottom: 1px solid gray;flex-grow: 1;}#sk-container-id-1 div.sk-label:hover label.sk-toggleable__label {background-color: #d4ebff;}#sk-container-id-1 div.sk-serial::before {content: \"\";position: absolute;border-left: 1px solid gray;box-sizing: border-box;top: 0;bottom: 0;left: 50%;z-index: 0;}#sk-container-id-1 div.sk-serial {display: flex;flex-direction: column;align-items: center;background-color: white;padding-right: 0.2em;padding-left: 0.2em;position: relative;}#sk-container-id-1 div.sk-item {position: relative;z-index: 1;}#sk-container-id-1 div.sk-parallel {display: flex;align-items: stretch;justify-content: center;background-color: white;position: relative;}#sk-container-id-1 div.sk-item::before, #sk-container-id-1 div.sk-parallel-item::before {content: \"\";position: absolute;border-left: 1px solid gray;box-sizing: border-box;top: 0;bottom: 0;left: 50%;z-index: -1;}#sk-container-id-1 div.sk-parallel-item {display: flex;flex-direction: column;z-index: 1;position: relative;background-color: white;}#sk-container-id-1 div.sk-parallel-item:first-child::after {align-self: flex-end;width: 50%;}#sk-container-id-1 div.sk-parallel-item:last-child::after {align-self: flex-start;width: 50%;}#sk-container-id-1 div.sk-parallel-item:only-child::after {width: 0;}#sk-container-id-1 div.sk-dashed-wrapped {border: 1px dashed gray;margin: 0 0.4em 0.5em 0.4em;box-sizing: border-box;padding-bottom: 0.4em;background-color: white;}#sk-container-id-1 div.sk-label label {font-family: monospace;font-weight: bold;display: inline-block;line-height: 1.2em;}#sk-container-id-1 div.sk-label-container {text-align: center;}#sk-container-id-1 div.sk-container {/* jupyter's `normalize.less` sets `[hidden] { display: none; }` but bootstrap.min.css set `[hidden] { display: none !important; }` so we also need the `!important` here to be able to override the default hidden behavior on the sphinx rendered scikit-learn.org. See: https://github.com/scikit-learn/scikit-learn/issues/21755 */display: inline-block !important;position: relative;}#sk-container-id-1 div.sk-text-repr-fallback {display: none;}</style><div id=\"sk-container-id-1\" class=\"sk-top-container\"><div class=\"sk-text-repr-fallback\"><pre>LinearRegression()</pre><b>In a Jupyter environment, please rerun this cell to show the HTML representation or trust the notebook. <br />On GitHub, the HTML representation is unable to render, please try loading this page with nbviewer.org.</b></div><div class=\"sk-container\" hidden><div class=\"sk-item\"><div class=\"sk-estimator sk-toggleable\"><input class=\"sk-toggleable__control sk-hidden--visually\" id=\"sk-estimator-id-1\" type=\"checkbox\" checked><label for=\"sk-estimator-id-1\" class=\"sk-toggleable__label sk-toggleable__label-arrow\">LinearRegression</label><div class=\"sk-toggleable__content\"><pre>LinearRegression()</pre></div></div></div></div></div>"
      ],
      "text/plain": [
       "LinearRegression()"
      ]
     },
     "execution_count": 9,
     "metadata": {},
     "output_type": "execute_result"
    }
   ],
   "source": [
    "# Step 5: Train the model\n",
    "model = LinearRegression()\n",
    "model.fit(X_train, y_train)\n"
   ]
  },
  {
   "cell_type": "code",
   "execution_count": 10,
   "id": "09d65187-2f94-4582-bd49-ccaa2ad50473",
   "metadata": {},
   "outputs": [
    {
     "name": "stdout",
     "output_type": "stream",
     "text": [
      "Root Mean Squared Error: 32804.40249697187\n"
     ]
    }
   ],
   "source": [
    "# Step 6: Evaluate the model\n",
    "y_pred = model.predict(X_test)\n",
    "rmse = np.sqrt(mean_squared_error(y_test, y_pred))\n",
    "print(\"Root Mean Squared Error:\", rmse)"
   ]
  },
  {
   "cell_type": "code",
   "execution_count": 11,
   "id": "2ed33162-622d-43fb-9448-e65c429fcea9",
   "metadata": {},
   "outputs": [],
   "source": [
    "# Step 7: Predict 2022 arrivals\n",
    "# Use 2018–2021 to predict 2022\n",
    "X_2022 = df[[\n",
    "    'Number of Arrivals-2018',\n",
    "    'Number of Arrivals-2019',\n",
    "    'Number of Arrivals-2020',\n",
    "    'Number of Arrivals-2021']]\n",
    "X_2022.columns = [\n",
    "    'Number of Arrivals-2017',\n",
    "    'Number of Arrivals-2018',\n",
    "    'Number of Arrivals-2019',\n",
    "    'Number of Arrivals-2020']\n",
    "df['Predicted Arrivals-2022'] = model.predict(X_2022)\n"
   ]
  },
  {
   "cell_type": "code",
   "execution_count": 12,
   "id": "eaf45d5c-b8a8-48ca-b29c-09caf4f53fcc",
   "metadata": {},
   "outputs": [],
   "source": [
    "# Step 8: Save the results to a CSV\n",
    "df[['Region', 'Country of Nationality', 'Predicted Arrivals-2022']].to_csv(\"Predicted_Tourism_2022.csv\", index=False)"
   ]
  },
  {
   "cell_type": "code",
   "execution_count": 13,
   "id": "28c5bf15-9fd1-42a3-a4d3-0fd042c025c3",
   "metadata": {},
   "outputs": [
    {
     "data": {
      "image/png": "[encoded data removed]",
      "text/plain": [
       "<Figure size 1000x600 with 1 Axes>"
      ]
     },
     "metadata": {},
     "output_type": "display_data"
    }
   ],
   "source": [
    "# Step 9: Visualize predictions vs actual 2021\n",
    "plt.figure(figsize=(10,6))\n",
    "sns.scatterplot(x=y_test, y=y_pred)\n",
    "plt.xlabel(\"Actual 2021 Arrivals\")\n",
    "plt.ylabel(\"Predicted 2021 Arrivals\")\n",
    "plt.title(\"Model Performance on 2021 Prediction\")\n",
    "plt.grid(True)\n",
    "plt.tight_layout()\n",
    "plt.show()"
   ]
  },
  {
   "cell_type": "code",
   "execution_count": 14,
   "id": "d745c959-d90d-426c-86d3-d26c4de24bba",
   "metadata": {},
   "outputs": [
    {
     "name": "stdout",
     "output_type": "stream",
     "text": [
      "\n",
      "Top 10 Countries by Predicted Tourist Arrivals in 2022:\n",
      "Country of Nationality  Predicted Arrivals-2022\n",
      "               U. S. A            204792.140820\n",
      "              Portugal             38034.021612\n",
      "              Maldives             34524.358397\n",
      "                 Nepal             26141.912706\n",
      "               Nigeria             10254.452898\n",
      "                 Kenya              7345.087482\n",
      "       Yemen Arab Rep.              6984.599248\n",
      "              Tanzania              5651.640512\n",
      "                Bhutan              3333.675308\n",
      "            Kazakhstan              2331.544781\n"
     ]
    }
   ],
   "source": [
    "# Optional: Show top 10 countries with highest predicted arrivals in 2022\n",
    "top_predictions = df[['Country of Nationality', 'Predicted Arrivals-2022']].sort_values(by='Predicted Arrivals-2022', ascending=False).head(10)\n",
    "print(\"\\nTop 10 Countries by Predicted Tourist Arrivals in 2022:\")\n",
    "print(top_predictions.to_string(index=False))\n"
   ]
  },
  {
   "cell_type": "code",
   "execution_count": null,
   "id": "1bf17726-55bb-4547-9eb0-83685c5c2d09",
   "metadata": {},
   "outputs": [],
   "source": []
  },
  {
   "cell_type": "code",
   "execution_count": null,
   "id": "43d69b22-228a-4f92-b98a-225d531571dd",
   "metadata": {},
   "outputs": [],
   "source": [
    "# This is only needed for tourism prediction project"
   ]
  },
  {
   "cell_type": "code",
   "execution_count": 15,
   "id": "c2b56784-2468-42b4-8c5b-e6301b30e6de",
   "metadata": {},
   "outputs": [
    {
     "name": "stdout",
     "output_type": "stream",
     "text": [
      "Model trained and saved as best_model.pkl. Best model: Random Forest with RMSE: 17053.76\n"
     ]
    }
   ],
   "source": [
    "# Tourist Count Prediction Project (Enhanced Version)\n",
    "\n",
    "import pandas as pd\n",
    "import numpy as np\n",
    "from sklearn.model_selection import train_test_split\n",
    "from sklearn.linear_model import LinearRegression\n",
    "from sklearn.ensemble import RandomForestRegressor\n",
    "from sklearn.tree import DecisionTreeRegressor\n",
    "from sklearn.metrics import mean_squared_error\n",
    "import joblib\n",
    "\n",
    "# Step 1: Load the dataset\n",
    "file_path = \"India-Tourism-Statistics-2022-Table-2.1.4.csv\"\n",
    "df = pd.read_csv(file_path)\n",
    "\n",
    "# Step 2: Clean the data\n",
    "df = df[~df['Country of Nationality'].isin(['Total', 'Others'])]\n",
    "df = df.dropna(subset=[\n",
    "    'Number of Arrivals-2017',\n",
    "    'Number of Arrivals-2018',\n",
    "    'Number of Arrivals-2019',\n",
    "    'Number of Arrivals-2020',\n",
    "    'Number of Arrivals-2021'\n",
    "])\n",
    "\n",
    "# Step 3: Feature selection\n",
    "features = [\n",
    "    'Number of Arrivals-2017',\n",
    "    'Number of Arrivals-2018',\n",
    "    'Number of Arrivals-2019',\n",
    "    'Number of Arrivals-2020'\n",
    "]\n",
    "target = 'Number of Arrivals-2021'\n",
    "X = df[features]\n",
    "y = df[target]\n",
    "\n",
    "# Step 4: Train-test split\n",
    "X_train, X_test, y_train, y_test = train_test_split(X, y, test_size=0.2, random_state=42)\n",
    "\n",
    "# Step 5: Model selection and training\n",
    "models = {\n",
    "    \"Linear Regression\": LinearRegression(),\n",
    "    \"Decision Tree\": DecisionTreeRegressor(random_state=42),\n",
    "    \"Random Forest\": RandomForestRegressor(n_estimators=100, random_state=42)\n",
    "}\n",
    "\n",
    "results = {}\n",
    "for name, model in models.items():\n",
    "    model.fit(X_train, y_train)\n",
    "    y_pred = model.predict(X_test)\n",
    "    rmse = np.sqrt(mean_squared_error(y_test, y_pred))\n",
    "    results[name] = (model, rmse)\n",
    "\n",
    "# Select the best model\n",
    "best_model_name = min(results, key=lambda k: results[k][1])\n",
    "best_model, best_rmse = results[best_model_name]\n",
    "\n",
    "# Save model and data for Flask app\n",
    "joblib.dump(best_model, \"best_model.pkl\")\n",
    "df.to_csv(\"cleaned_data.csv\", index=False)\n",
    "print(f\"Model trained and saved as best_model.pkl. Best model: {best_model_name} with RMSE: {best_rmse:.2f}\")\n"
   ]
  },
  {
   "cell_type": "code",
   "execution_count": null,
   "id": "dc97ca02-f301-4828-91e6-625d158a4ed5",
   "metadata": {},
   "outputs": [],
   "source": [
    "!pip install plotly pycountry"
   ]
  }
 ],
 "metadata": {
  "kernelspec": {
   "display_name": "Python 3 (ipykernel)",
   "language": "python",
   "name": "python3"
  },
  "language_info": {
   "codemirror_mode": {
    "name": "ipython",
    "version": 3
   },
   "file_extension": ".py",
   "mimetype": "text/x-python",
   "name": "python",
   "nbconvert_exporter": "python",
   "pygments_lexer": "ipython3",
   "version": "3.11.7"
  }
 },
 "nbformat": 4,
 "nbformat_minor": 5
}
